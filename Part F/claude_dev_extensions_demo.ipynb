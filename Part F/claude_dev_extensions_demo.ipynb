{
 "cells": [
  {
   "cell_type": "markdown",
   "metadata": {},
   "source": [
    "# Claude-dev Extensions: 10 Use Cases\n",
    "\n",
    "This notebook demonstrates 10 use cases of coding using Claude-dev extensions, including refactoring, commenting, code generation, and autocomplete."
   ]
  },
  {
   "cell_type": "markdown",
   "metadata": {},
   "source": [
    "## 1. Code Generation: Creating a Simple Function"
   ]
  },
  {
   "cell_type": "code",
   "execution_count": 1,
   "metadata": {},
   "outputs": [
    {
     "name": "stdout",
     "output_type": "stream",
     "text": [
      "120\n"
     ]
    }
   ],
   "source": [
    "# Generate a function to calculate the factorial of a number\n",
    "def factorial(n):\n",
    "    if n == 0 or n == 1:\n",
    "        return 1\n",
    "    else:\n",
    "        return n * factorial(n - 1)\n",
    "\n",
    "# Test the function\n",
    "print(factorial(5))"
   ]
  },
  {
   "cell_type": "markdown",
   "metadata": {},
   "source": [
    "## 2. Code Refactoring: Improving a Function"
   ]
  },
  {
   "cell_type": "code",
   "execution_count": 2,
   "metadata": {},
   "outputs": [
    {
     "name": "stdout",
     "output_type": "stream",
     "text": [
      "Original: 15\n",
      "Refactored: 15\n"
     ]
    }
   ],
   "source": [
    "# Original function\n",
    "def calculate_total(items):\n",
    "    total = 0\n",
    "    for item in items:\n",
    "        total = total + item\n",
    "    return total\n",
    "\n",
    "# Refactored function\n",
    "def calculate_total_refactored(items):\n",
    "    return sum(items)\n",
    "\n",
    "# Test both functions\n",
    "test_items = [1, 2, 3, 4, 5]\n",
    "print(f\"Original: {calculate_total(test_items)}\")\n",
    "print(f\"Refactored: {calculate_total_refactored(test_items)}\")"
   ]
  },
  {
   "cell_type": "markdown",
   "metadata": {},
   "source": [
    "## 3. Adding Comments: Explaining Complex Code"
   ]
  },
  {
   "cell_type": "code",
   "execution_count": 3,
   "metadata": {},
   "outputs": [
    {
     "name": "stdout",
     "output_type": "stream",
     "text": [
      "[1, 1, 2, 3, 6, 8, 10]\n"
     ]
    }
   ],
   "source": [
    "def quicksort(arr):\n",
    "    # Base case: if the array has 1 or fewer elements, it's already sorted\n",
    "    if len(arr) <= 1:\n",
    "        return arr\n",
    "    \n",
    "    # Choose the pivot as the last element of the array\n",
    "    pivot = arr[-1]\n",
    "    \n",
    "    # Partition the array into elements less than and greater than the pivot\n",
    "    left = [x for x in arr[:-1] if x < pivot]\n",
    "    right = [x for x in arr[:-1] if x >= pivot]\n",
    "    \n",
    "    # Recursively sort the left and right partitions\n",
    "    # Then combine them with the pivot in the middle\n",
    "    return quicksort(left) + [pivot] + quicksort(right)\n",
    "\n",
    "# Test the quicksort function\n",
    "print(quicksort([3, 6, 8, 10, 1, 2, 1]))"
   ]
  },
  {
   "cell_type": "markdown",
   "metadata": {},
   "source": [
    "## 4. Autocomplete: Suggesting Function Names and Parameters"
   ]
  },
  {
   "cell_type": "code",
   "execution_count": 4,
   "metadata": {},
   "outputs": [
    {
     "name": "stdout",
     "output_type": "stream",
     "text": [
      "4.0\n",
      "Hi, Alice!\n"
     ]
    }
   ],
   "source": [
    "# Autocomplete can suggest function names and parameters\n",
    "import math\n",
    "\n",
    "# Type 'math.' and autocomplete can suggest functions like:\n",
    "result = math.sqrt(16)\n",
    "print(result)\n",
    "\n",
    "# Autocomplete can also suggest parameters for functions\n",
    "def greet(name, greeting=\"Hello\"):\n",
    "    return f\"{greeting}, {name}!\"\n",
    "\n",
    "# When calling greet(), autocomplete can suggest 'name' and 'greeting'\n",
    "print(greet(name=\"Alice\", greeting=\"Hi\"))"
   ]
  },
  {
   "cell_type": "markdown",
   "metadata": {},
   "source": [
    "## 5. Error Correction: Fixing Syntax Errors"
   ]
  },
  {
   "cell_type": "code",
   "execution_count": 6,
   "metadata": {},
   "outputs": [
    {
     "name": "stdout",
     "output_type": "stream",
     "text": [
      "Hello, World!\n"
     ]
    }
   ],
   "source": [
    "# Code with syntax errors\n",
    "def print_hello_world()\n",
    "    print(\"Hello, World!\")\n",
    "\n",
    "# Corrected code\n",
    "def print_hello_world():\n",
    "    print(\"Hello, World!\")\n",
    "\n",
    "print_hello_world()"
   ]
  },
  {
   "cell_type": "markdown",
   "metadata": {},
   "source": [
    "## 6. Code Optimization: Improving Performance"
   ]
  },
  {
   "cell_type": "code",
   "execution_count": 7,
   "metadata": {},
   "outputs": [
    {
     "name": "stdout",
     "output_type": "stream",
     "text": [
      "Original: 832040, Time: 0.150518 seconds\n",
      "Optimized: 832040, Time: 0.000000 seconds\n"
     ]
    }
   ],
   "source": [
    "import time\n",
    "\n",
    "# Original function\n",
    "def fibonacci_original(n):\n",
    "    if n <= 1:\n",
    "        return n\n",
    "    return fibonacci_original(n-1) + fibonacci_original(n-2)\n",
    "\n",
    "# Optimized function\n",
    "def fibonacci_optimized(n, memo={}):\n",
    "    if n in memo:\n",
    "        return memo[n]\n",
    "    if n <= 1:\n",
    "        return n\n",
    "    memo[n] = fibonacci_optimized(n-1, memo) + fibonacci_optimized(n-2, memo)\n",
    "    return memo[n]\n",
    "\n",
    "# Test both functions\n",
    "n = 30\n",
    "\n",
    "start = time.time()\n",
    "result_original = fibonacci_original(n)\n",
    "time_original = time.time() - start\n",
    "\n",
    "start = time.time()\n",
    "result_optimized = fibonacci_optimized(n)\n",
    "time_optimized = time.time() - start\n",
    "\n",
    "print(f\"Original: {result_original}, Time: {time_original:.6f} seconds\")\n",
    "print(f\"Optimized: {result_optimized}, Time: {time_optimized:.6f} seconds\")"
   ]
  },
  {
   "cell_type": "markdown",
   "metadata": {},
   "source": [
    "## 7. Type Hinting: Adding Type Annotations"
   ]
  },
  {
   "cell_type": "code",
   "execution_count": 8,
   "metadata": {},
   "outputs": [
    {
     "name": "stdout",
     "output_type": "stream",
     "text": [
      "{'sum': 15, 'average': 3.0, 'min': 1, 'max': 5}\n"
     ]
    }
   ],
   "source": [
    "from typing import List, Dict, Union\n",
    "\n",
    "def process_data(data: List[Union[int, float]]) -> Dict[str, float]:\n",
    "    return {\n",
    "        \"sum\": sum(data),\n",
    "        \"average\": sum(data) / len(data) if data else 0,\n",
    "        \"min\": min(data) if data else None,\n",
    "        \"max\": max(data) if data else None\n",
    "    }\n",
    "\n",
    "# Test the function\n",
    "result = process_data([1, 2, 3, 4, 5])\n",
    "print(result)"
   ]
  },
  {
   "cell_type": "markdown",
   "metadata": {},
   "source": [
    "## 8. Code Completion: Finishing Partially Written Code"
   ]
  },
  {
   "cell_type": "code",
   "execution_count": 9,
   "metadata": {},
   "outputs": [
    {
     "name": "stdout",
     "output_type": "stream",
     "text": [
      "True\n",
      "False\n"
     ]
    }
   ],
   "source": [
    "# Partially written code\n",
    "def is_palindrome(s: str) -> bool:\n",
    "    # Remove non-alphanumeric characters and convert to lowercase\n",
    "    cleaned = ''.join(c.lower() for c in s if c.isalnum())\n",
    "    \n",
    "    # Check if the cleaned string is equal to its reverse\n",
    "    return cleaned == cleaned[::-1]\n",
    "\n",
    "# Test the function\n",
    "print(is_palindrome(\"A man, a plan, a canal: Panama\"))\n",
    "print(is_palindrome(\"race a car\"))"
   ]
  },
  {
   "cell_type": "markdown",
   "metadata": {},
   "source": [
    "## 9. Code Generation: Creating a Class"
   ]
  },
  {
   "cell_type": "code",
   "execution_count": 10,
   "metadata": {},
   "outputs": [
    {
     "name": "stdout",
     "output_type": "stream",
     "text": [
      "Balance: $500.00\n"
     ]
    }
   ],
   "source": [
    "class BankAccount:\n",
    "    def __init__(self, account_number: str, balance: float = 0):\n",
    "        self.account_number = account_number\n",
    "        self.balance = balance\n",
    "    \n",
    "    def deposit(self, amount: float) -> None:\n",
    "        if amount > 0:\n",
    "            self.balance += amount\n",
    "        else:\n",
    "            raise ValueError(\"Deposit amount must be positive\")\n",
    "    \n",
    "    def withdraw(self, amount: float) -> None:\n",
    "        if amount > 0:\n",
    "            if self.balance >= amount:\n",
    "                self.balance -= amount\n",
    "            else:\n",
    "                raise ValueError(\"Insufficient funds\")\n",
    "        else:\n",
    "            raise ValueError(\"Withdrawal amount must be positive\")\n",
    "    \n",
    "    def get_balance(self) -> float:\n",
    "        return self.balance\n",
    "\n",
    "# Test the BankAccount class\n",
    "account = BankAccount(\"1234567890\")\n",
    "account.deposit(1000)\n",
    "account.withdraw(500)\n",
    "print(f\"Balance: ${account.get_balance():.2f}\")"
   ]
  },
  {
   "cell_type": "markdown",
   "metadata": {},
   "source": [
    "## 10. Documentation Generation: Adding Docstrings"
   ]
  },
  {
   "cell_type": "code",
   "execution_count": 11,
   "metadata": {},
   "outputs": [
    {
     "name": "stdout",
     "output_type": "stream",
     "text": [
      "22.9\n"
     ]
    }
   ],
   "source": [
    "def calculate_bmi(weight: float, height: float) -> float:\n",
    "    \"\"\"\n",
    "    Calculate the Body Mass Index (BMI) of a person.\n",
    "\n",
    "    The BMI is calculated using the formula: BMI = weight (kg) / (height (m))^2\n",
    "\n",
    "    Args:\n",
    "        weight (float): The weight of the person in kilograms.\n",
    "        height (float): The height of the person in meters.\n",
    "\n",
    "    Returns:\n",
    "        float: The calculated BMI rounded to one decimal place.\n",
    "\n",
    "    Raises:\n",
    "        ValueError: If weight or height is less than or equal to 0.\n",
    "\n",
    "    Example:\n",
    "        >>> calculate_bmi(70, 1.75)\n",
    "        22.9\n",
    "    \"\"\"\n",
    "    if weight <= 0 or height <= 0:\n",
    "        raise ValueError(\"Weight and height must be positive values\")\n",
    "    \n",
    "    bmi = weight / (height ** 2)\n",
    "    return round(bmi, 1)\n",
    "\n",
    "# Test the function\n",
    "print(calculate_bmi(70, 1.75))"
   ]
  }
 ],
 "metadata": {
  "kernelspec": {
   "display_name": "Python 3",
   "language": "python",
   "name": "python3"
  },
  "language_info": {
   "codemirror_mode": {
    "name": "ipython",
    "version": 3
   },
   "file_extension": ".py",
   "mimetype": "text/x-python",
   "name": "python",
   "nbconvert_exporter": "python",
   "pygments_lexer": "ipython3",
   "version": "3.11.9"
  }
 },
 "nbformat": 4,
 "nbformat_minor": 4
}
